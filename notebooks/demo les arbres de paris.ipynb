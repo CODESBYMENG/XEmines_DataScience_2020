{
 "cells": [
  {
   "cell_type": "code",
   "execution_count": 1,
   "metadata": {},
   "outputs": [],
   "source": [
    "import pandas as pd "
   ]
  },
  {
   "cell_type": "markdown",
   "metadata": {},
   "source": [
    "\n",
    "# Titre\n",
    "\n",
    "## sous titre\n",
    "\n",
    "- bullet\n",
    "- bullet 2\n",
    "\n",
    "\n",
    "text est en **bold** \n",
    "\n",
    "[lien vers google](https://google.com)\n",
    "\n",
    "\n"
   ]
  },
  {
   "cell_type": "markdown",
   "metadata": {},
   "source": [
    "Importer le dataset les arbres "
   ]
  },
  {
   "cell_type": "code",
   "execution_count": 5,
   "metadata": {},
   "outputs": [
    {
     "name": "stderr",
     "output_type": "stream",
     "text": [
      "b'Skipping line 1916: expected 17 fields, saw 18\\n'\n"
     ]
    }
   ],
   "source": [
    "url = 'https://raw.githubusercontent.com/alexisperrier/XEmines_DataScience_2020/master/data/les-arbres.csv'\n",
    "df = pd.read_csv(url, sep = ';', error_bad_lines = False)"
   ]
  },
  {
   "cell_type": "code",
   "execution_count": 6,
   "metadata": {},
   "outputs": [
    {
     "data": {
      "text/plain": [
       "pandas.core.frame.DataFrame"
      ]
     },
     "execution_count": 6,
     "metadata": {},
     "output_type": "execute_result"
    }
   ],
   "source": [
    "type(df)\n"
   ]
  },
  {
   "cell_type": "code",
   "execution_count": 7,
   "metadata": {},
   "outputs": [
    {
     "data": {
      "text/plain": [
       "(200332, 17)"
      ]
     },
     "execution_count": 7,
     "metadata": {},
     "output_type": "execute_result"
    }
   ],
   "source": [
    "df.shape"
   ]
  },
  {
   "cell_type": "code",
   "execution_count": 8,
   "metadata": {},
   "outputs": [
    {
     "data": {
      "text/plain": [
       "Index(['IDBASE', 'TYPEEMPLACEMENT', 'DOMANIALITE', 'ARRONDISSEMENT',\n",
       "       'COMPLEMENTADRESSE', 'NUMERO', 'LIEU / ADRESSE', 'IDEMPLACEMENT',\n",
       "       'LIBELLEFRANCAIS', 'GENRE', 'ESPECE', 'VARIETEOUCULTIVAR',\n",
       "       'CIRCONFERENCEENCM', 'HAUTEUR (m)', 'STADEDEVELOPPEMENT', 'REMARQUABLE',\n",
       "       'geo_point_2d'],\n",
       "      dtype='object')"
      ]
     },
     "execution_count": 8,
     "metadata": {},
     "output_type": "execute_result"
    }
   ],
   "source": [
    "df.columns"
   ]
  },
  {
   "cell_type": "code",
   "execution_count": 11,
   "metadata": {},
   "outputs": [
    {
     "data": {
      "text/plain": [
       "0          PARIS 11E ARRDT\n",
       "1          PARIS 18E ARRDT\n",
       "2          PARIS 15E ARRDT\n",
       "3          PARIS 14E ARRDT\n",
       "4          PARIS 16E ARRDT\n",
       "                ...       \n",
       "200327     PARIS 12E ARRDT\n",
       "200328    BOIS DE BOULOGNE\n",
       "200329     PARIS 14E ARRDT\n",
       "200330     PARIS 12E ARRDT\n",
       "200331     PARIS 13E ARRDT\n",
       "Name: ARRONDISSEMENT, Length: 200332, dtype: object"
      ]
     },
     "execution_count": 11,
     "metadata": {},
     "output_type": "execute_result"
    }
   ],
   "source": [
    "df.ARRONDISSEMENT"
   ]
  },
  {
   "cell_type": "code",
   "execution_count": 12,
   "metadata": {},
   "outputs": [
    {
     "data": {
      "text/plain": [
       "0          5.0\n",
       "1         10.0\n",
       "2         10.0\n",
       "3         12.0\n",
       "4          0.0\n",
       "          ... \n",
       "200327     5.0\n",
       "200328     8.0\n",
       "200329    10.0\n",
       "200330    15.0\n",
       "200331     0.0\n",
       "Name: HAUTEUR (m), Length: 200332, dtype: float64"
      ]
     },
     "execution_count": 12,
     "metadata": {},
     "output_type": "execute_result"
    }
   ],
   "source": [
    "df['HAUTEUR (m)']"
   ]
  },
  {
   "cell_type": "code",
   "execution_count": 16,
   "metadata": {},
   "outputs": [
    {
     "data": {
      "text/html": [
       "<div>\n",
       "<style scoped>\n",
       "    .dataframe tbody tr th:only-of-type {\n",
       "        vertical-align: middle;\n",
       "    }\n",
       "\n",
       "    .dataframe tbody tr th {\n",
       "        vertical-align: top;\n",
       "    }\n",
       "\n",
       "    .dataframe thead th {\n",
       "        text-align: right;\n",
       "    }\n",
       "</style>\n",
       "<table border=\"1\" class=\"dataframe\">\n",
       "  <thead>\n",
       "    <tr style=\"text-align: right;\">\n",
       "      <th></th>\n",
       "      <th>IDBASE</th>\n",
       "      <th>TYPEEMPLACEMENT</th>\n",
       "      <th>DOMANIALITE</th>\n",
       "      <th>ARRONDISSEMENT</th>\n",
       "      <th>COMPLEMENTADRESSE</th>\n",
       "      <th>NUMERO</th>\n",
       "      <th>LIEU / ADRESSE</th>\n",
       "      <th>IDEMPLACEMENT</th>\n",
       "      <th>LIBELLEFRANCAIS</th>\n",
       "      <th>GENRE</th>\n",
       "      <th>ESPECE</th>\n",
       "      <th>VARIETEOUCULTIVAR</th>\n",
       "      <th>CIRCONFERENCEENCM</th>\n",
       "      <th>HAUTEUR (m)</th>\n",
       "      <th>STADEDEVELOPPEMENT</th>\n",
       "      <th>REMARQUABLE</th>\n",
       "      <th>geo_point_2d</th>\n",
       "    </tr>\n",
       "  </thead>\n",
       "  <tbody>\n",
       "    <tr>\n",
       "      <td>0</td>\n",
       "      <td>232702.0</td>\n",
       "      <td>Arbre</td>\n",
       "      <td>Alignement</td>\n",
       "      <td>PARIS 11E ARRDT</td>\n",
       "      <td>NaN</td>\n",
       "      <td>NaN</td>\n",
       "      <td>BOULEVARD DE MENILMONTANT</td>\n",
       "      <td>000602002</td>\n",
       "      <td>Sophora</td>\n",
       "      <td>Sophora</td>\n",
       "      <td>japonica</td>\n",
       "      <td>NaN</td>\n",
       "      <td>55.0</td>\n",
       "      <td>5.0</td>\n",
       "      <td>JA</td>\n",
       "      <td>0.0</td>\n",
       "      <td>48.8652353853, 2.38481800435</td>\n",
       "    </tr>\n",
       "    <tr>\n",
       "      <td>1</td>\n",
       "      <td>235862.0</td>\n",
       "      <td>Arbre</td>\n",
       "      <td>Alignement</td>\n",
       "      <td>PARIS 18E ARRDT</td>\n",
       "      <td>NaN</td>\n",
       "      <td>NaN</td>\n",
       "      <td>AVENUE DE LA PORTE DE CLIGNANCOURT</td>\n",
       "      <td>000303007</td>\n",
       "      <td>Tilleul</td>\n",
       "      <td>Tilia</td>\n",
       "      <td>tomentosa</td>\n",
       "      <td>NaN</td>\n",
       "      <td>60.0</td>\n",
       "      <td>10.0</td>\n",
       "      <td>JA</td>\n",
       "      <td>NaN</td>\n",
       "      <td>48.8999949231, 2.34379810146</td>\n",
       "    </tr>\n",
       "    <tr>\n",
       "      <td>2</td>\n",
       "      <td>236391.0</td>\n",
       "      <td>Arbre</td>\n",
       "      <td>Alignement</td>\n",
       "      <td>PARIS 15E ARRDT</td>\n",
       "      <td>27</td>\n",
       "      <td>NaN</td>\n",
       "      <td>BOULEVARD GARIBALDI</td>\n",
       "      <td>000101024</td>\n",
       "      <td>Noisetier de Byzance</td>\n",
       "      <td>Corylus</td>\n",
       "      <td>colurna</td>\n",
       "      <td>NaN</td>\n",
       "      <td>60.0</td>\n",
       "      <td>10.0</td>\n",
       "      <td>JA</td>\n",
       "      <td>NaN</td>\n",
       "      <td>48.8470727044, 2.30470921442</td>\n",
       "    </tr>\n",
       "  </tbody>\n",
       "</table>\n",
       "</div>"
      ],
      "text/plain": [
       "     IDBASE TYPEEMPLACEMENT DOMANIALITE   ARRONDISSEMENT COMPLEMENTADRESSE  \\\n",
       "0  232702.0           Arbre  Alignement  PARIS 11E ARRDT               NaN   \n",
       "1  235862.0           Arbre  Alignement  PARIS 18E ARRDT               NaN   \n",
       "2  236391.0           Arbre  Alignement  PARIS 15E ARRDT                27   \n",
       "\n",
       "   NUMERO                      LIEU / ADRESSE IDEMPLACEMENT  \\\n",
       "0     NaN           BOULEVARD DE MENILMONTANT     000602002   \n",
       "1     NaN  AVENUE DE LA PORTE DE CLIGNANCOURT     000303007   \n",
       "2     NaN                 BOULEVARD GARIBALDI     000101024   \n",
       "\n",
       "        LIBELLEFRANCAIS    GENRE     ESPECE VARIETEOUCULTIVAR  \\\n",
       "0               Sophora  Sophora   japonica               NaN   \n",
       "1               Tilleul    Tilia  tomentosa               NaN   \n",
       "2  Noisetier de Byzance  Corylus    colurna               NaN   \n",
       "\n",
       "   CIRCONFERENCEENCM  HAUTEUR (m) STADEDEVELOPPEMENT  REMARQUABLE  \\\n",
       "0               55.0          5.0                 JA          0.0   \n",
       "1               60.0         10.0                 JA          NaN   \n",
       "2               60.0         10.0                 JA          NaN   \n",
       "\n",
       "                   geo_point_2d  \n",
       "0  48.8652353853, 2.38481800435  \n",
       "1  48.8999949231, 2.34379810146  \n",
       "2  48.8470727044, 2.30470921442  "
      ]
     },
     "execution_count": 16,
     "metadata": {},
     "output_type": "execute_result"
    }
   ],
   "source": [
    "df.head(n= 3)"
   ]
  },
  {
   "cell_type": "code",
   "execution_count": 15,
   "metadata": {},
   "outputs": [
    {
     "data": {
      "text/html": [
       "<div>\n",
       "<style scoped>\n",
       "    .dataframe tbody tr th:only-of-type {\n",
       "        vertical-align: middle;\n",
       "    }\n",
       "\n",
       "    .dataframe tbody tr th {\n",
       "        vertical-align: top;\n",
       "    }\n",
       "\n",
       "    .dataframe thead th {\n",
       "        text-align: right;\n",
       "    }\n",
       "</style>\n",
       "<table border=\"1\" class=\"dataframe\">\n",
       "  <thead>\n",
       "    <tr style=\"text-align: right;\">\n",
       "      <th></th>\n",
       "      <th>IDBASE</th>\n",
       "      <th>TYPEEMPLACEMENT</th>\n",
       "      <th>DOMANIALITE</th>\n",
       "      <th>ARRONDISSEMENT</th>\n",
       "      <th>COMPLEMENTADRESSE</th>\n",
       "      <th>NUMERO</th>\n",
       "      <th>LIEU / ADRESSE</th>\n",
       "      <th>IDEMPLACEMENT</th>\n",
       "      <th>LIBELLEFRANCAIS</th>\n",
       "      <th>GENRE</th>\n",
       "      <th>ESPECE</th>\n",
       "      <th>VARIETEOUCULTIVAR</th>\n",
       "      <th>CIRCONFERENCEENCM</th>\n",
       "      <th>HAUTEUR (m)</th>\n",
       "      <th>STADEDEVELOPPEMENT</th>\n",
       "      <th>REMARQUABLE</th>\n",
       "      <th>geo_point_2d</th>\n",
       "    </tr>\n",
       "  </thead>\n",
       "  <tbody>\n",
       "    <tr>\n",
       "      <td>200322</td>\n",
       "      <td>2006806.0</td>\n",
       "      <td>Arbre</td>\n",
       "      <td>Alignement</td>\n",
       "      <td>BOIS DE VINCENNES</td>\n",
       "      <td>NaN</td>\n",
       "      <td>NaN</td>\n",
       "      <td>ROUTE ROYALE DE BEAUTE</td>\n",
       "      <td>000202021</td>\n",
       "      <td>NaN</td>\n",
       "      <td>Tilia</td>\n",
       "      <td>x hispanica</td>\n",
       "      <td>NaN</td>\n",
       "      <td>100.0</td>\n",
       "      <td>10.0</td>\n",
       "      <td>JA</td>\n",
       "      <td>0.0</td>\n",
       "      <td>48.8342846715, 2.44240123717</td>\n",
       "    </tr>\n",
       "    <tr>\n",
       "      <td>200323</td>\n",
       "      <td>145293.0</td>\n",
       "      <td>Arbre</td>\n",
       "      <td>CIMETIERE</td>\n",
       "      <td>HAUTS-DE-SEINE</td>\n",
       "      <td>NaN</td>\n",
       "      <td>NaN</td>\n",
       "      <td>CIMETIERE DE BAGNEUX / AVENUE DU FORT / DIV 0</td>\n",
       "      <td>A09600000038</td>\n",
       "      <td>Erable</td>\n",
       "      <td>Acer</td>\n",
       "      <td>campestre</td>\n",
       "      <td>NaN</td>\n",
       "      <td>25.0</td>\n",
       "      <td>3.0</td>\n",
       "      <td>NaN</td>\n",
       "      <td>0.0</td>\n",
       "      <td>48.808081668, 2.31543549323</td>\n",
       "    </tr>\n",
       "    <tr>\n",
       "      <td>200324</td>\n",
       "      <td>2021240.0</td>\n",
       "      <td>Arbre</td>\n",
       "      <td>Alignement</td>\n",
       "      <td>PARIS 19E ARRDT</td>\n",
       "      <td>NaN</td>\n",
       "      <td>NaN</td>\n",
       "      <td>RUE GASTON TESSIER</td>\n",
       "      <td>000301006</td>\n",
       "      <td>Orme</td>\n",
       "      <td>Ulmus</td>\n",
       "      <td>NaN</td>\n",
       "      <td>'Nanguen' LUTECE</td>\n",
       "      <td>20.0</td>\n",
       "      <td>5.0</td>\n",
       "      <td>NaN</td>\n",
       "      <td>0.0</td>\n",
       "      <td>48.8963275488, 2.37549140772</td>\n",
       "    </tr>\n",
       "    <tr>\n",
       "      <td>200325</td>\n",
       "      <td>207315.0</td>\n",
       "      <td>Arbre</td>\n",
       "      <td>Alignement</td>\n",
       "      <td>BOIS DE BOULOGNE</td>\n",
       "      <td>NaN</td>\n",
       "      <td>NaN</td>\n",
       "      <td>ALLEE DES FORTIFICATIONS</td>\n",
       "      <td>000505082</td>\n",
       "      <td>Marronnier</td>\n",
       "      <td>Aesculus</td>\n",
       "      <td>hippocastanum</td>\n",
       "      <td>NaN</td>\n",
       "      <td>0.0</td>\n",
       "      <td>0.0</td>\n",
       "      <td>NaN</td>\n",
       "      <td>0.0</td>\n",
       "      <td>48.8497147571, 2.25828251418</td>\n",
       "    </tr>\n",
       "    <tr>\n",
       "      <td>200326</td>\n",
       "      <td>209744.0</td>\n",
       "      <td>Arbre</td>\n",
       "      <td>Alignement</td>\n",
       "      <td>PARIS 13E ARRDT</td>\n",
       "      <td>NaN</td>\n",
       "      <td>NaN</td>\n",
       "      <td>AVENUE D IVRY</td>\n",
       "      <td>000301016</td>\n",
       "      <td>Marronnier</td>\n",
       "      <td>Aesculus</td>\n",
       "      <td>hippocastanum</td>\n",
       "      <td>'Baumannii'</td>\n",
       "      <td>65.0</td>\n",
       "      <td>8.0</td>\n",
       "      <td>JA</td>\n",
       "      <td>0.0</td>\n",
       "      <td>48.8231432757, 2.36591348729</td>\n",
       "    </tr>\n",
       "    <tr>\n",
       "      <td>200327</td>\n",
       "      <td>212725.0</td>\n",
       "      <td>Arbre</td>\n",
       "      <td>Alignement</td>\n",
       "      <td>PARIS 12E ARRDT</td>\n",
       "      <td>NaN</td>\n",
       "      <td>NaN</td>\n",
       "      <td>BOULEVARD DE PICPUS</td>\n",
       "      <td>000102012</td>\n",
       "      <td>Noisetier de Byzance</td>\n",
       "      <td>Corylus</td>\n",
       "      <td>colurna</td>\n",
       "      <td>NaN</td>\n",
       "      <td>65.0</td>\n",
       "      <td>5.0</td>\n",
       "      <td>JA</td>\n",
       "      <td>0.0</td>\n",
       "      <td>48.8418446406, 2.40098702075</td>\n",
       "    </tr>\n",
       "    <tr>\n",
       "      <td>200328</td>\n",
       "      <td>213821.0</td>\n",
       "      <td>Arbre</td>\n",
       "      <td>Alignement</td>\n",
       "      <td>BOIS DE BOULOGNE</td>\n",
       "      <td>NaN</td>\n",
       "      <td>NaN</td>\n",
       "      <td>ALLEE DE LONGCHAMP</td>\n",
       "      <td>000501067</td>\n",
       "      <td>Noisetier de Byzance</td>\n",
       "      <td>Corylus</td>\n",
       "      <td>colurna</td>\n",
       "      <td>NaN</td>\n",
       "      <td>59.0</td>\n",
       "      <td>8.0</td>\n",
       "      <td>JA</td>\n",
       "      <td>0.0</td>\n",
       "      <td>48.8745769835, 2.27033664245</td>\n",
       "    </tr>\n",
       "    <tr>\n",
       "      <td>200329</td>\n",
       "      <td>221203.0</td>\n",
       "      <td>Arbre</td>\n",
       "      <td>Alignement</td>\n",
       "      <td>PARIS 14E ARRDT</td>\n",
       "      <td>NaN</td>\n",
       "      <td>NaN</td>\n",
       "      <td>BOULEVARD SAINT JACQUES</td>\n",
       "      <td>000203005</td>\n",
       "      <td>Platane</td>\n",
       "      <td>Platanus</td>\n",
       "      <td>x hispanica</td>\n",
       "      <td>NaN</td>\n",
       "      <td>100.0</td>\n",
       "      <td>10.0</td>\n",
       "      <td>JA</td>\n",
       "      <td>0.0</td>\n",
       "      <td>48.8332293406, 2.33558265319</td>\n",
       "    </tr>\n",
       "    <tr>\n",
       "      <td>200330</td>\n",
       "      <td>221493.0</td>\n",
       "      <td>Arbre</td>\n",
       "      <td>Alignement</td>\n",
       "      <td>PARIS 12E ARRDT</td>\n",
       "      <td>NaN</td>\n",
       "      <td>NaN</td>\n",
       "      <td>PLACE DE LA BASTILLE</td>\n",
       "      <td>000103001</td>\n",
       "      <td>Platane</td>\n",
       "      <td>Platanus</td>\n",
       "      <td>x hispanica</td>\n",
       "      <td>NaN</td>\n",
       "      <td>105.0</td>\n",
       "      <td>15.0</td>\n",
       "      <td>A</td>\n",
       "      <td>0.0</td>\n",
       "      <td>48.852364791, 2.36921457683</td>\n",
       "    </tr>\n",
       "    <tr>\n",
       "      <td>200331</td>\n",
       "      <td>235909.0</td>\n",
       "      <td>Arbre</td>\n",
       "      <td>Alignement</td>\n",
       "      <td>PARIS 13E ARRDT</td>\n",
       "      <td>NaN</td>\n",
       "      <td>NaN</td>\n",
       "      <td>QUAI FRANCOIS MAURIAC</td>\n",
       "      <td>000301038</td>\n",
       "      <td>Tilleul</td>\n",
       "      <td>Tilia</td>\n",
       "      <td>tomentosa</td>\n",
       "      <td>NaN</td>\n",
       "      <td>40.0</td>\n",
       "      <td>0.0</td>\n",
       "      <td>NaN</td>\n",
       "      <td>NaN</td>\n",
       "      <td>48.8355029917, 2.37541891634</td>\n",
       "    </tr>\n",
       "  </tbody>\n",
       "</table>\n",
       "</div>"
      ],
      "text/plain": [
       "           IDBASE TYPEEMPLACEMENT DOMANIALITE     ARRONDISSEMENT  \\\n",
       "200322  2006806.0           Arbre  Alignement  BOIS DE VINCENNES   \n",
       "200323   145293.0           Arbre   CIMETIERE     HAUTS-DE-SEINE   \n",
       "200324  2021240.0           Arbre  Alignement    PARIS 19E ARRDT   \n",
       "200325   207315.0           Arbre  Alignement   BOIS DE BOULOGNE   \n",
       "200326   209744.0           Arbre  Alignement    PARIS 13E ARRDT   \n",
       "200327   212725.0           Arbre  Alignement    PARIS 12E ARRDT   \n",
       "200328   213821.0           Arbre  Alignement   BOIS DE BOULOGNE   \n",
       "200329   221203.0           Arbre  Alignement    PARIS 14E ARRDT   \n",
       "200330   221493.0           Arbre  Alignement    PARIS 12E ARRDT   \n",
       "200331   235909.0           Arbre  Alignement    PARIS 13E ARRDT   \n",
       "\n",
       "       COMPLEMENTADRESSE  NUMERO  \\\n",
       "200322               NaN     NaN   \n",
       "200323               NaN     NaN   \n",
       "200324               NaN     NaN   \n",
       "200325               NaN     NaN   \n",
       "200326               NaN     NaN   \n",
       "200327               NaN     NaN   \n",
       "200328               NaN     NaN   \n",
       "200329               NaN     NaN   \n",
       "200330               NaN     NaN   \n",
       "200331               NaN     NaN   \n",
       "\n",
       "                                       LIEU / ADRESSE IDEMPLACEMENT  \\\n",
       "200322                         ROUTE ROYALE DE BEAUTE     000202021   \n",
       "200323  CIMETIERE DE BAGNEUX / AVENUE DU FORT / DIV 0  A09600000038   \n",
       "200324                             RUE GASTON TESSIER     000301006   \n",
       "200325                       ALLEE DES FORTIFICATIONS     000505082   \n",
       "200326                                  AVENUE D IVRY     000301016   \n",
       "200327                            BOULEVARD DE PICPUS     000102012   \n",
       "200328                             ALLEE DE LONGCHAMP     000501067   \n",
       "200329                        BOULEVARD SAINT JACQUES     000203005   \n",
       "200330                           PLACE DE LA BASTILLE     000103001   \n",
       "200331                          QUAI FRANCOIS MAURIAC     000301038   \n",
       "\n",
       "             LIBELLEFRANCAIS     GENRE         ESPECE VARIETEOUCULTIVAR  \\\n",
       "200322                   NaN     Tilia    x hispanica               NaN   \n",
       "200323                Erable      Acer      campestre               NaN   \n",
       "200324                  Orme     Ulmus            NaN  'Nanguen' LUTECE   \n",
       "200325            Marronnier  Aesculus  hippocastanum               NaN   \n",
       "200326            Marronnier  Aesculus  hippocastanum       'Baumannii'   \n",
       "200327  Noisetier de Byzance   Corylus        colurna               NaN   \n",
       "200328  Noisetier de Byzance   Corylus        colurna               NaN   \n",
       "200329               Platane  Platanus    x hispanica               NaN   \n",
       "200330               Platane  Platanus    x hispanica               NaN   \n",
       "200331               Tilleul     Tilia      tomentosa               NaN   \n",
       "\n",
       "        CIRCONFERENCEENCM  HAUTEUR (m) STADEDEVELOPPEMENT  REMARQUABLE  \\\n",
       "200322              100.0         10.0                 JA          0.0   \n",
       "200323               25.0          3.0                NaN          0.0   \n",
       "200324               20.0          5.0                NaN          0.0   \n",
       "200325                0.0          0.0                NaN          0.0   \n",
       "200326               65.0          8.0                 JA          0.0   \n",
       "200327               65.0          5.0                 JA          0.0   \n",
       "200328               59.0          8.0                 JA          0.0   \n",
       "200329              100.0         10.0                 JA          0.0   \n",
       "200330              105.0         15.0                  A          0.0   \n",
       "200331               40.0          0.0                NaN          NaN   \n",
       "\n",
       "                        geo_point_2d  \n",
       "200322  48.8342846715, 2.44240123717  \n",
       "200323   48.808081668, 2.31543549323  \n",
       "200324  48.8963275488, 2.37549140772  \n",
       "200325  48.8497147571, 2.25828251418  \n",
       "200326  48.8231432757, 2.36591348729  \n",
       "200327  48.8418446406, 2.40098702075  \n",
       "200328  48.8745769835, 2.27033664245  \n",
       "200329  48.8332293406, 2.33558265319  \n",
       "200330   48.852364791, 2.36921457683  \n",
       "200331  48.8355029917, 2.37541891634  "
      ]
     },
     "execution_count": 15,
     "metadata": {},
     "output_type": "execute_result"
    }
   ],
   "source": [
    "df.tail(n = 10)"
   ]
  },
  {
   "cell_type": "code",
   "execution_count": 17,
   "metadata": {},
   "outputs": [
    {
     "data": {
      "text/html": [
       "<div>\n",
       "<style scoped>\n",
       "    .dataframe tbody tr th:only-of-type {\n",
       "        vertical-align: middle;\n",
       "    }\n",
       "\n",
       "    .dataframe tbody tr th {\n",
       "        vertical-align: top;\n",
       "    }\n",
       "\n",
       "    .dataframe thead th {\n",
       "        text-align: right;\n",
       "    }\n",
       "</style>\n",
       "<table border=\"1\" class=\"dataframe\">\n",
       "  <thead>\n",
       "    <tr style=\"text-align: right;\">\n",
       "      <th></th>\n",
       "      <th>IDBASE</th>\n",
       "      <th>NUMERO</th>\n",
       "      <th>CIRCONFERENCEENCM</th>\n",
       "      <th>HAUTEUR (m)</th>\n",
       "      <th>REMARQUABLE</th>\n",
       "    </tr>\n",
       "  </thead>\n",
       "  <tbody>\n",
       "    <tr>\n",
       "      <td>count</td>\n",
       "      <td>2.003320e+05</td>\n",
       "      <td>0.0</td>\n",
       "      <td>200332.000000</td>\n",
       "      <td>200332.000000</td>\n",
       "      <td>137203.000000</td>\n",
       "    </tr>\n",
       "    <tr>\n",
       "      <td>mean</td>\n",
       "      <td>3.871040e+05</td>\n",
       "      <td>NaN</td>\n",
       "      <td>83.377988</td>\n",
       "      <td>13.108235</td>\n",
       "      <td>0.001341</td>\n",
       "    </tr>\n",
       "    <tr>\n",
       "      <td>std</td>\n",
       "      <td>5.454652e+05</td>\n",
       "      <td>NaN</td>\n",
       "      <td>672.864029</td>\n",
       "      <td>1970.258098</td>\n",
       "      <td>0.036596</td>\n",
       "    </tr>\n",
       "    <tr>\n",
       "      <td>min</td>\n",
       "      <td>9.987400e+04</td>\n",
       "      <td>NaN</td>\n",
       "      <td>0.000000</td>\n",
       "      <td>0.000000</td>\n",
       "      <td>0.000000</td>\n",
       "    </tr>\n",
       "    <tr>\n",
       "      <td>25%</td>\n",
       "      <td>1.558788e+05</td>\n",
       "      <td>NaN</td>\n",
       "      <td>30.000000</td>\n",
       "      <td>5.000000</td>\n",
       "      <td>0.000000</td>\n",
       "    </tr>\n",
       "    <tr>\n",
       "      <td>50%</td>\n",
       "      <td>2.210865e+05</td>\n",
       "      <td>NaN</td>\n",
       "      <td>70.000000</td>\n",
       "      <td>8.000000</td>\n",
       "      <td>0.000000</td>\n",
       "    </tr>\n",
       "    <tr>\n",
       "      <td>75%</td>\n",
       "      <td>2.741462e+05</td>\n",
       "      <td>NaN</td>\n",
       "      <td>115.000000</td>\n",
       "      <td>12.000000</td>\n",
       "      <td>0.000000</td>\n",
       "    </tr>\n",
       "    <tr>\n",
       "      <td>max</td>\n",
       "      <td>2.024745e+06</td>\n",
       "      <td>NaN</td>\n",
       "      <td>250255.000000</td>\n",
       "      <td>881818.000000</td>\n",
       "      <td>1.000000</td>\n",
       "    </tr>\n",
       "  </tbody>\n",
       "</table>\n",
       "</div>"
      ],
      "text/plain": [
       "             IDBASE  NUMERO  CIRCONFERENCEENCM    HAUTEUR (m)    REMARQUABLE\n",
       "count  2.003320e+05     0.0      200332.000000  200332.000000  137203.000000\n",
       "mean   3.871040e+05     NaN          83.377988      13.108235       0.001341\n",
       "std    5.454652e+05     NaN         672.864029    1970.258098       0.036596\n",
       "min    9.987400e+04     NaN           0.000000       0.000000       0.000000\n",
       "25%    1.558788e+05     NaN          30.000000       5.000000       0.000000\n",
       "50%    2.210865e+05     NaN          70.000000       8.000000       0.000000\n",
       "75%    2.741462e+05     NaN         115.000000      12.000000       0.000000\n",
       "max    2.024745e+06     NaN      250255.000000  881818.000000       1.000000"
      ]
     },
     "execution_count": 17,
     "metadata": {},
     "output_type": "execute_result"
    }
   ],
   "source": [
    "df.describe()"
   ]
  },
  {
   "cell_type": "code",
   "execution_count": 18,
   "metadata": {},
   "outputs": [
    {
     "data": {
      "text/plain": [
       "Alignement      105061\n",
       "Jardin           46329\n",
       "CIMETIERE        31933\n",
       "DASCO             6429\n",
       "PERIPHERIQUE      5327\n",
       "DJS               3901\n",
       "DFPE              1326\n",
       "DAC                 21\n",
       "DASES                4\n",
       "Name: DOMANIALITE, dtype: int64"
      ]
     },
     "execution_count": 18,
     "metadata": {},
     "output_type": "execute_result"
    }
   ],
   "source": [
    "df['DOMANIALITE']"
   ]
  },
  {
   "cell_type": "code",
   "execution_count": 20,
   "metadata": {},
   "outputs": [
    {
     "data": {
      "text/plain": [
       "<matplotlib.axes._subplots.AxesSubplot at 0x12fa8a6d0>"
      ]
     },
     "execution_count": 20,
     "metadata": {},
     "output_type": "execute_result"
    },
    {
     "data": {
      "image/png": "[encoded data removed]",
      "text/plain": [
       "<Figure size 432x288 with 1 Axes>"
      ]
     },
     "metadata": {
      "needs_background": "light"
     },
     "output_type": "display_data"
    }
   ],
   "source": [
    "df['CIRCONFERENCEENCM'].hist(bins = 100)"
   ]
  },
  {
   "cell_type": "code",
   "execution_count": 23,
   "metadata": {},
   "outputs": [
    {
     "data": {
      "text/plain": [
       "(72, 17)"
      ]
     },
     "execution_count": 23,
     "metadata": {},
     "output_type": "execute_result"
    }
   ],
   "source": [
    "df[ df.CIRCONFERENCEENCM > 1000   ].shape"
   ]
  },
  {
   "cell_type": "code",
   "execution_count": 24,
   "metadata": {},
   "outputs": [
    {
     "data": {
      "text/plain": [
       "(200332, 17)"
      ]
     },
     "execution_count": 24,
     "metadata": {},
     "output_type": "execute_result"
    }
   ],
   "source": [
    "df.shape"
   ]
  },
  {
   "cell_type": "code",
   "execution_count": 29,
   "metadata": {},
   "outputs": [
    {
     "data": {
      "text/plain": [
       "<matplotlib.axes._subplots.AxesSubplot at 0x133418690>"
      ]
     },
     "execution_count": 29,
     "metadata": {},
     "output_type": "execute_result"
    },
    {
     "data": {
      "image/png": "[encoded data removed]",
      "text/plain": [
       "<Figure size 432x288 with 1 Axes>"
      ]
     },
     "metadata": {
      "needs_background": "light"
     },
     "output_type": "display_data"
    }
   ],
   "source": [
    "df[ df.CIRCONFERENCEENCM < 1000  ].CIRCONFERENCEENCM.hist(bins = 100)"
   ]
  },
  {
   "cell_type": "code",
   "execution_count": 30,
   "metadata": {},
   "outputs": [
    {
     "data": {
      "text/plain": [
       "Index(['IDBASE', 'TYPEEMPLACEMENT', 'DOMANIALITE', 'ARRONDISSEMENT',\n",
       "       'COMPLEMENTADRESSE', 'NUMERO', 'LIEU / ADRESSE', 'IDEMPLACEMENT',\n",
       "       'LIBELLEFRANCAIS', 'GENRE', 'ESPECE', 'VARIETEOUCULTIVAR',\n",
       "       'CIRCONFERENCEENCM', 'HAUTEUR (m)', 'STADEDEVELOPPEMENT', 'REMARQUABLE',\n",
       "       'geo_point_2d'],\n",
       "      dtype='object')"
      ]
     },
     "execution_count": 30,
     "metadata": {},
     "output_type": "execute_result"
    }
   ],
   "source": [
    "df.columns"
   ]
  },
  {
   "cell_type": "code",
   "execution_count": 31,
   "metadata": {},
   "outputs": [],
   "source": [
    "nom = \"alexis\""
   ]
  },
  {
   "cell_type": "code",
   "execution_count": 32,
   "metadata": {},
   "outputs": [
    {
     "name": "stdout",
     "output_type": "stream",
     "text": [
      "mon nom est alexis \n"
     ]
    }
   ],
   "source": [
    "print(\"mon nom est {} \".format(nom))"
   ]
  },
  {
   "cell_type": "code",
   "execution_count": 33,
   "metadata": {},
   "outputs": [
    {
     "name": "stdout",
     "output_type": "stream",
     "text": [
      "mon nom est alexis\n"
     ]
    }
   ],
   "source": [
    "print(\"mon nom est \" + nom)"
   ]
  },
  {
   "cell_type": "code",
   "execution_count": 34,
   "metadata": {},
   "outputs": [
    {
     "ename": "TypeError",
     "evalue": "can only concatenate str (not \"int\") to str",
     "output_type": "error",
     "traceback": [
      "\u001b[0;31m---------------------------------------------------------------------------\u001b[0m",
      "\u001b[0;31mTypeError\u001b[0m                                 Traceback (most recent call last)",
      "\u001b[0;32m<ipython-input-34-9ca992700357>\u001b[0m in \u001b[0;36m<module>\u001b[0;34m\u001b[0m\n\u001b[1;32m      1\u001b[0m \u001b[0mn\u001b[0m \u001b[0;34m=\u001b[0m \u001b[0;36m10\u001b[0m\u001b[0;34m\u001b[0m\u001b[0;34m\u001b[0m\u001b[0m\n\u001b[0;32m----> 2\u001b[0;31m \u001b[0mprint\u001b[0m\u001b[0;34m(\u001b[0m\u001b[0;34m\"n = \"\u001b[0m \u001b[0;34m+\u001b[0m \u001b[0mn\u001b[0m\u001b[0;34m)\u001b[0m\u001b[0;34m\u001b[0m\u001b[0;34m\u001b[0m\u001b[0m\n\u001b[0m",
      "\u001b[0;31mTypeError\u001b[0m: can only concatenate str (not \"int\") to str"
     ]
    }
   ],
   "source": [
    "n = 10\n",
    "print(\"n = \" + n)"
   ]
  },
  {
   "cell_type": "code",
   "execution_count": 39,
   "metadata": {},
   "outputs": [
    {
     "data": {
      "text/plain": [
       "Index(['IDBASE', 'TYPEEMPLACEMENT', 'DOMANIALITE', 'ARRONDISSEMENT',\n",
       "       'COMPLEMENTADRESSE', 'NUMERO', 'LIEU / ADRESSE', 'IDEMPLACEMENT',\n",
       "       'LIBELLEFRANCAIS', 'GENRE', 'ESPECE', 'VARIETEOUCULTIVAR',\n",
       "       'CIRCONFERENCEENCM', 'HAUTEUR (m)', 'STADEDEVELOPPEMENT', 'REMARQUABLE',\n",
       "       'geo_point_2d'],\n",
       "      dtype='object')"
      ]
     },
     "execution_count": 39,
     "metadata": {},
     "output_type": "execute_result"
    }
   ],
   "source": [
    "df.columns\n"
   ]
  },
  {
   "cell_type": "code",
   "execution_count": 42,
   "metadata": {},
   "outputs": [],
   "source": [
    "dom = list(df.DOMANIALITE.unique())"
   ]
  },
  {
   "cell_type": "code",
   "execution_count": 47,
   "metadata": {},
   "outputs": [
    {
     "data": {
      "text/plain": [
       "10"
      ]
     },
     "execution_count": 47,
     "metadata": {},
     "output_type": "execute_result"
    }
   ],
   "source": [
    "len(dom)"
   ]
  },
  {
   "cell_type": "code",
   "execution_count": 50,
   "metadata": {},
   "outputs": [
    {
     "data": {
      "text/plain": [
       "['Alignement',\n",
       " 'Jardin',\n",
       " 'CIMETIERE',\n",
       " 'DFPE',\n",
       " 'PERIPHERIQUE',\n",
       " 'DJS',\n",
       " 'DASCO',\n",
       " 'DAC',\n",
       " 'DASES',\n",
       " nan]"
      ]
     },
     "execution_count": 50,
     "metadata": {},
     "output_type": "execute_result"
    }
   ],
   "source": [
    "dom"
   ]
  },
  {
   "cell_type": "code",
   "execution_count": 52,
   "metadata": {},
   "outputs": [
    {
     "name": "stdout",
     "output_type": "stream",
     "text": [
      "Alignement\n",
      "Jardin\n",
      "CIMETIERE\n",
      "DFPE\n",
      "PERIPHERIQUE\n",
      "DJS\n",
      "DASCO\n",
      "DAC\n",
      "DASES\n",
      "nan\n"
     ]
    }
   ],
   "source": [
    "for d in dom:\n",
    "    print(d)"
   ]
  },
  {
   "cell_type": "code",
   "execution_count": 53,
   "metadata": {},
   "outputs": [],
   "source": [
    "dom.append('maison')"
   ]
  },
  {
   "cell_type": "code",
   "execution_count": 54,
   "metadata": {},
   "outputs": [
    {
     "data": {
      "text/plain": [
       "['Alignement',\n",
       " 'Jardin',\n",
       " 'CIMETIERE',\n",
       " 'DFPE',\n",
       " 'PERIPHERIQUE',\n",
       " 'DJS',\n",
       " 'DASCO',\n",
       " 'DAC',\n",
       " 'DASES',\n",
       " nan,\n",
       " 'maison']"
      ]
     },
     "execution_count": 54,
     "metadata": {},
     "output_type": "execute_result"
    }
   ],
   "source": [
    "dom"
   ]
  },
  {
   "cell_type": "code",
   "execution_count": 59,
   "metadata": {},
   "outputs": [
    {
     "data": {
      "text/plain": [
       "'DASES'"
      ]
     },
     "execution_count": 59,
     "metadata": {},
     "output_type": "execute_result"
    }
   ],
   "source": [
    "dom[8]"
   ]
  },
  {
   "cell_type": "code",
   "execution_count": 56,
   "metadata": {},
   "outputs": [
    {
     "data": {
      "text/plain": [
       "['Alignement', 'Jardin']"
      ]
     },
     "execution_count": 56,
     "metadata": {},
     "output_type": "execute_result"
    }
   ],
   "source": [
    "dom[0:2]"
   ]
  },
  {
   "cell_type": "code",
   "execution_count": 57,
   "metadata": {},
   "outputs": [
    {
     "data": {
      "text/plain": [
       "['Alignement', 'Jardin']"
      ]
     },
     "execution_count": 57,
     "metadata": {},
     "output_type": "execute_result"
    }
   ],
   "source": [
    "dom[:2]"
   ]
  },
  {
   "cell_type": "code",
   "execution_count": 58,
   "metadata": {},
   "outputs": [
    {
     "data": {
      "text/plain": [
       "'maison'"
      ]
     },
     "execution_count": 58,
     "metadata": {},
     "output_type": "execute_result"
    }
   ],
   "source": [
    "dom[-1]"
   ]
  },
  {
   "cell_type": "code",
   "execution_count": 60,
   "metadata": {},
   "outputs": [
    {
     "data": {
      "text/plain": [
       "['Alignement',\n",
       " 'Jardin',\n",
       " 'CIMETIERE',\n",
       " 'DFPE',\n",
       " 'PERIPHERIQUE',\n",
       " 'DJS',\n",
       " 'DASCO',\n",
       " 'DAC',\n",
       " 'DASES',\n",
       " nan,\n",
       " 'maison']"
      ]
     },
     "execution_count": 60,
     "metadata": {},
     "output_type": "execute_result"
    }
   ],
   "source": [
    "dom"
   ]
  },
  {
   "cell_type": "code",
   "execution_count": 74,
   "metadata": {},
   "outputs": [
    {
     "data": {
      "text/plain": [
       "['Jardin', 'nan', 'maison']"
      ]
     },
     "execution_count": 74,
     "metadata": {},
     "output_type": "execute_result"
    }
   ],
   "source": [
    "[ str(mot) for mot in dom if 'a' in str(mot)  ]"
   ]
  },
  {
   "cell_type": "code",
   "execution_count": 73,
   "metadata": {},
   "outputs": [
    {
     "data": {
      "text/plain": [
       "[6, 3, 6]"
      ]
     },
     "execution_count": 73,
     "metadata": {},
     "output_type": "execute_result"
    }
   ],
   "source": [
    "vocab"
   ]
  },
  {
   "cell_type": "code",
   "execution_count": null,
   "metadata": {},
   "outputs": [],
   "source": []
  }
 ],
 "metadata": {
  "kernelspec": {
   "display_name": "Python 3",
   "language": "python",
   "name": "python3"
  },
  "language_info": {
   "codemirror_mode": {
    "name": "ipython",
    "version": 3
   },
   "file_extension": ".py",
   "mimetype": "text/x-python",
   "name": "python",
   "nbconvert_exporter": "python",
   "pygments_lexer": "ipython3",
   "version": "3.7.4"
  }
 },
 "nbformat": 4,
 "nbformat_minor": 2
}
