{
 "cells": [
  {
   "cell_type": "markdown",
   "metadata": {},
   "source": [
    "# Multivariate Regression\n",
    "\n",
    "In this notebook we will build several multivariate models based on the advertising dataset.\n",
    "\n",
    "We will assess the reliability of the models from the pvalues of the coefficients\n",
    "and select the best model based on\n",
    "\n",
    "* the R-squared\n",
    "* the log-likelihood,\n",
    "* the AIC and BIC criteria\n",
    "* and the F-statistic and its associated p-value\n",
    "\n",
    "We will also interpret the **QQ-plots** for these different linear regression models.\n",
    "\n",
    "So let's import the necessary packages and load the advertising dataset into a dataframe\n",
    "\n"
   ]
  },
  {
   "cell_type": "code",
   "execution_count": 2,
   "metadata": {},
   "outputs": [
    {
     "data": {
      "text/plain": [
       "(200, 4)"
      ]
     },
     "execution_count": 2,
     "metadata": {},
     "output_type": "execute_result"
    }
   ],
   "source": [
    "import pandas as pd\n",
    "import numpy as np\n",
    "import matplotlib.pyplot as plt\n",
    "import seaborn as sns\n",
    "import statsmodels.formula.api as smf\n",
    "import statsmodels.api as sm\n",
    "\n",
    "df = pd.read_csv('./data/advertising.csv')\n",
    "\n",
    "df.shape"
   ]
  },
  {
   "cell_type": "code",
   "execution_count": 3,
   "metadata": {},
   "outputs": [
    {
     "data": {
      "text/html": [
       "<div>\n",
       "<style scoped>\n",
       "    .dataframe tbody tr th:only-of-type {\n",
       "        vertical-align: middle;\n",
       "    }\n",
       "\n",
       "    .dataframe tbody tr th {\n",
       "        vertical-align: top;\n",
       "    }\n",
       "\n",
       "    .dataframe thead th {\n",
       "        text-align: right;\n",
       "    }\n",
       "</style>\n",
       "<table border=\"1\" class=\"dataframe\">\n",
       "  <thead>\n",
       "    <tr style=\"text-align: right;\">\n",
       "      <th></th>\n",
       "      <th>TV</th>\n",
       "      <th>Radio</th>\n",
       "      <th>Newspaper</th>\n",
       "      <th>Sales</th>\n",
       "    </tr>\n",
       "  </thead>\n",
       "  <tbody>\n",
       "    <tr>\n",
       "      <th>0</th>\n",
       "      <td>230.1</td>\n",
       "      <td>37.8</td>\n",
       "      <td>69.2</td>\n",
       "      <td>22.1</td>\n",
       "    </tr>\n",
       "    <tr>\n",
       "      <th>1</th>\n",
       "      <td>44.5</td>\n",
       "      <td>39.3</td>\n",
       "      <td>45.1</td>\n",
       "      <td>10.4</td>\n",
       "    </tr>\n",
       "    <tr>\n",
       "      <th>2</th>\n",
       "      <td>17.2</td>\n",
       "      <td>45.9</td>\n",
       "      <td>69.3</td>\n",
       "      <td>9.3</td>\n",
       "    </tr>\n",
       "    <tr>\n",
       "      <th>3</th>\n",
       "      <td>151.5</td>\n",
       "      <td>41.3</td>\n",
       "      <td>58.5</td>\n",
       "      <td>18.5</td>\n",
       "    </tr>\n",
       "    <tr>\n",
       "      <th>4</th>\n",
       "      <td>180.8</td>\n",
       "      <td>10.8</td>\n",
       "      <td>58.4</td>\n",
       "      <td>12.9</td>\n",
       "    </tr>\n",
       "  </tbody>\n",
       "</table>\n",
       "</div>"
      ],
      "text/plain": [
       "      TV  Radio  Newspaper  Sales\n",
       "0  230.1   37.8       69.2   22.1\n",
       "1   44.5   39.3       45.1   10.4\n",
       "2   17.2   45.9       69.3    9.3\n",
       "3  151.5   41.3       58.5   18.5\n",
       "4  180.8   10.8       58.4   12.9"
      ]
     },
     "execution_count": 3,
     "metadata": {},
     "output_type": "execute_result"
    }
   ],
   "source": [
    "df.head()"
   ]
  },
  {
   "cell_type": "markdown",
   "metadata": {},
   "source": [
    "Let's start by fitting a model that takes into account all 3 predictors"
   ]
  },
  {
   "cell_type": "code",
   "execution_count": 5,
   "metadata": {},
   "outputs": [
    {
     "name": "stdout",
     "output_type": "stream",
     "text": [
      "                            OLS Regression Results                            \n",
      "==============================================================================\n",
      "Dep. Variable:                  Sales   R-squared:                       0.897\n",
      "Model:                            OLS   Adj. R-squared:                  0.896\n",
      "Method:                 Least Squares   F-statistic:                     570.3\n",
      "Date:                Thu, 18 Jul 2019   Prob (F-statistic):           1.58e-96\n",
      "Time:                        15:41:27   Log-Likelihood:                -386.18\n",
      "No. Observations:                 200   AIC:                             780.4\n",
      "Df Residuals:                     196   BIC:                             793.6\n",
      "Df Model:                           3                                         \n",
      "Covariance Type:            nonrobust                                         \n",
      "==============================================================================\n",
      "                 coef    std err          t      P>|t|      [0.025      0.975]\n",
      "------------------------------------------------------------------------------\n",
      "Intercept      2.9389      0.312      9.422      0.000       2.324       3.554\n",
      "TV             0.0458      0.001     32.809      0.000       0.043       0.049\n",
      "Radio          0.1885      0.009     21.893      0.000       0.172       0.206\n",
      "Newspaper     -0.0010      0.006     -0.177      0.860      -0.013       0.011\n",
      "==============================================================================\n",
      "Omnibus:                       60.414   Durbin-Watson:                   2.084\n",
      "Prob(Omnibus):                  0.000   Jarque-Bera (JB):              151.241\n",
      "Skew:                          -1.327   Prob(JB):                     1.44e-33\n",
      "Kurtosis:                       6.332   Cond. No.                         454.\n",
      "==============================================================================\n",
      "\n",
      "Warnings:\n",
      "[1] Standard Errors assume that the covariance matrix of the errors is correctly specified.\n"
     ]
    }
   ],
   "source": [
    "M1 = 'Sales ~ TV + Radio + Newspaper'\n",
    "\n",
    "result1 = smf.ols(M1, data = df).fit()\n",
    "print(result1.summary())\n"
   ]
  },
  {
   "cell_type": "markdown",
   "metadata": {},
   "source": [
    "As we can see, the p-value of the Newspaper coefficient is well above the 0.05 threshold.\n"
   ]
  },
  {
   "cell_type": "code",
   "execution_count": 11,
   "metadata": {},
   "outputs": [
    {
     "name": "stdout",
     "output_type": "stream",
     "text": [
      "Coefficients: -0.00104\n",
      "P-values: 0.86\n"
     ]
    }
   ],
   "source": [
    "print(\"Coefficients: {:.5f}\".format(result1.params['Newspaper']))\n",
    "\n",
    "print(\"P-values: {:.2f}\".format(result1.pvalues['Newspaper']))"
   ]
  },
  {
   "cell_type": "markdown",
   "metadata": {},
   "source": [
    "The Newspaper predictor is not reliable.\n",
    "\n",
    "So let's remove this Newspaper predictor and consider a second model with just TV and Radio\n"
   ]
  },
  {
   "cell_type": "code",
   "execution_count": 13,
   "metadata": {},
   "outputs": [
    {
     "name": "stdout",
     "output_type": "stream",
     "text": [
      "                            OLS Regression Results                            \n",
      "==============================================================================\n",
      "Dep. Variable:                  Sales   R-squared:                       0.897\n",
      "Model:                            OLS   Adj. R-squared:                  0.896\n",
      "Method:                 Least Squares   F-statistic:                     859.6\n",
      "Date:                Thu, 18 Jul 2019   Prob (F-statistic):           4.83e-98\n",
      "Time:                        15:43:25   Log-Likelihood:                -386.20\n",
      "No. Observations:                 200   AIC:                             778.4\n",
      "Df Residuals:                     197   BIC:                             788.3\n",
      "Df Model:                           2                                         \n",
      "Covariance Type:            nonrobust                                         \n",
      "==============================================================================\n",
      "                 coef    std err          t      P>|t|      [0.025      0.975]\n",
      "------------------------------------------------------------------------------\n",
      "Intercept      2.9211      0.294      9.919      0.000       2.340       3.502\n",
      "TV             0.0458      0.001     32.909      0.000       0.043       0.048\n",
      "Radio          0.1880      0.008     23.382      0.000       0.172       0.204\n",
      "==============================================================================\n",
      "Omnibus:                       60.022   Durbin-Watson:                   2.081\n",
      "Prob(Omnibus):                  0.000   Jarque-Bera (JB):              148.679\n",
      "Skew:                          -1.323   Prob(JB):                     5.19e-33\n",
      "Kurtosis:                       6.292   Cond. No.                         425.\n",
      "==============================================================================\n",
      "\n",
      "Warnings:\n",
      "[1] Standard Errors assume that the covariance matrix of the errors is correctly specified.\n"
     ]
    }
   ],
   "source": [
    "M2 = 'Sales ~ TV + Radio'\n",
    "result2 = smf.ols(M2, data = df).fit()\n",
    "print(result2.summary())\n"
   ]
  },
  {
   "cell_type": "markdown",
   "metadata": {},
   "source": [
    "We can see that when we compare model 1 with model 2, the R-squared has not changed a bit\n",
    "at 0.897\n"
   ]
  },
  {
   "cell_type": "code",
   "execution_count": 14,
   "metadata": {},
   "outputs": [
    {
     "name": "stdout",
     "output_type": "stream",
     "text": [
      "M1 R-squared: 0.897 \t M2 R-squared: 0.897 \n"
     ]
    }
   ],
   "source": [
    "print(\"M1 R-squared: {:.3f} \\t M2 R-squared: {:.3f} \".format(result1.rsquared, result2.rsquared ))\n",
    "\n"
   ]
  },
  {
   "cell_type": "markdown",
   "metadata": {},
   "source": [
    "Removing the Newspaper variable seems to be the right thing to do\n",
    "since it doesn't add any information to the model.\n",
    "\n",
    "\n",
    "## Interaction terms\n",
    "\n",
    "However there is such a thing as interaction terms between predictors.\n",
    "\n",
    "A significant interaction between 2 predictors means that\n",
    "the influence of the first predictor\n",
    "is dependent on the values of the second predictor.\n",
    "\n",
    "For instance the effect of Newspaper on Sales will be different\n",
    "if we spend a little or if we spend a lot on TV.\n",
    "\n",
    "To add interaction terms, we define can the model as\n",
    "\n"
   ]
  },
  {
   "cell_type": "code",
   "execution_count": 15,
   "metadata": {},
   "outputs": [],
   "source": [
    "M3 =  'Sales ~ Radio + TV * Newspaper'"
   ]
  },
  {
   "cell_type": "markdown",
   "metadata": {},
   "source": [
    "This will assign 4 predictors to the model:\n",
    "\n",
    "* Radio, \n",
    "* TV, \n",
    "* Newspaper\n",
    "\n",
    "and \n",
    "* TV:Newspaper: the interaction term between TV and Newspaper.\n"
   ]
  },
  {
   "cell_type": "code",
   "execution_count": 19,
   "metadata": {},
   "outputs": [
    {
     "data": {
      "text/html": [
       "<table class=\"simpletable\">\n",
       "<caption>OLS Regression Results</caption>\n",
       "<tr>\n",
       "  <th>Dep. Variable:</th>          <td>Sales</td>      <th>  R-squared:         </th> <td>   0.903</td>\n",
       "</tr>\n",
       "<tr>\n",
       "  <th>Model:</th>                   <td>OLS</td>       <th>  Adj. R-squared:    </th> <td>   0.901</td>\n",
       "</tr>\n",
       "<tr>\n",
       "  <th>Method:</th>             <td>Least Squares</td>  <th>  F-statistic:       </th> <td>   456.2</td>\n",
       "</tr>\n",
       "<tr>\n",
       "  <th>Date:</th>             <td>Thu, 18 Jul 2019</td> <th>  Prob (F-statistic):</th> <td>9.06e-98</td>\n",
       "</tr>\n",
       "<tr>\n",
       "  <th>Time:</th>                 <td>15:45:32</td>     <th>  Log-Likelihood:    </th> <td> -379.90</td>\n",
       "</tr>\n",
       "<tr>\n",
       "  <th>No. Observations:</th>      <td>   200</td>      <th>  AIC:               </th> <td>   769.8</td>\n",
       "</tr>\n",
       "<tr>\n",
       "  <th>Df Residuals:</th>          <td>   195</td>      <th>  BIC:               </th> <td>   786.3</td>\n",
       "</tr>\n",
       "<tr>\n",
       "  <th>Df Model:</th>              <td>     4</td>      <th>                     </th>     <td> </td>   \n",
       "</tr>\n",
       "<tr>\n",
       "  <th>Covariance Type:</th>      <td>nonrobust</td>    <th>                     </th>     <td> </td>   \n",
       "</tr>\n",
       "</table>\n",
       "<table class=\"simpletable\">\n",
       "<tr>\n",
       "        <td></td>          <th>coef</th>     <th>std err</th>      <th>t</th>      <th>P>|t|</th>  <th>[0.025</th>    <th>0.975]</th>  \n",
       "</tr>\n",
       "<tr>\n",
       "  <th>Intercept</th>    <td>    3.8731</td> <td>    0.401</td> <td>    9.655</td> <td> 0.000</td> <td>    3.082</td> <td>    4.664</td>\n",
       "</tr>\n",
       "<tr>\n",
       "  <th>Radio</th>        <td>    0.1901</td> <td>    0.008</td> <td>   22.692</td> <td> 0.000</td> <td>    0.174</td> <td>    0.207</td>\n",
       "</tr>\n",
       "<tr>\n",
       "  <th>TV</th>           <td>    0.0393</td> <td>    0.002</td> <td>   17.312</td> <td> 0.000</td> <td>    0.035</td> <td>    0.044</td>\n",
       "</tr>\n",
       "<tr>\n",
       "  <th>Newspaper</th>    <td>   -0.0320</td> <td>    0.010</td> <td>   -3.074</td> <td> 0.002</td> <td>   -0.053</td> <td>   -0.011</td>\n",
       "</tr>\n",
       "<tr>\n",
       "  <th>TV:Newspaper</th> <td>    0.0002</td> <td> 5.68e-05</td> <td>    3.554</td> <td> 0.000</td> <td> 8.98e-05</td> <td>    0.000</td>\n",
       "</tr>\n",
       "</table>\n",
       "<table class=\"simpletable\">\n",
       "<tr>\n",
       "  <th>Omnibus:</th>       <td>78.746</td> <th>  Durbin-Watson:     </th> <td>   1.970</td>\n",
       "</tr>\n",
       "<tr>\n",
       "  <th>Prob(Omnibus):</th> <td> 0.000</td> <th>  Jarque-Bera (JB):  </th> <td> 306.193</td>\n",
       "</tr>\n",
       "<tr>\n",
       "  <th>Skew:</th>          <td>-1.542</td> <th>  Prob(JB):          </th> <td>3.24e-67</td>\n",
       "</tr>\n",
       "<tr>\n",
       "  <th>Kurtosis:</th>      <td> 8.218</td> <th>  Cond. No.          </th> <td>2.32e+04</td>\n",
       "</tr>\n",
       "</table><br/><br/>Warnings:<br/>[1] Standard Errors assume that the covariance matrix of the errors is correctly specified.<br/>[2] The condition number is large, 2.32e+04. This might indicate that there are<br/>strong multicollinearity or other numerical problems."
      ],
      "text/plain": [
       "<class 'statsmodels.iolib.summary.Summary'>\n",
       "\"\"\"\n",
       "                            OLS Regression Results                            \n",
       "==============================================================================\n",
       "Dep. Variable:                  Sales   R-squared:                       0.903\n",
       "Model:                            OLS   Adj. R-squared:                  0.901\n",
       "Method:                 Least Squares   F-statistic:                     456.2\n",
       "Date:                Thu, 18 Jul 2019   Prob (F-statistic):           9.06e-98\n",
       "Time:                        15:45:32   Log-Likelihood:                -379.90\n",
       "No. Observations:                 200   AIC:                             769.8\n",
       "Df Residuals:                     195   BIC:                             786.3\n",
       "Df Model:                           4                                         \n",
       "Covariance Type:            nonrobust                                         \n",
       "================================================================================\n",
       "                   coef    std err          t      P>|t|      [0.025      0.975]\n",
       "--------------------------------------------------------------------------------\n",
       "Intercept        3.8731      0.401      9.655      0.000       3.082       4.664\n",
       "Radio            0.1901      0.008     22.692      0.000       0.174       0.207\n",
       "TV               0.0393      0.002     17.312      0.000       0.035       0.044\n",
       "Newspaper       -0.0320      0.010     -3.074      0.002      -0.053      -0.011\n",
       "TV:Newspaper     0.0002   5.68e-05      3.554      0.000    8.98e-05       0.000\n",
       "==============================================================================\n",
       "Omnibus:                       78.746   Durbin-Watson:                   1.970\n",
       "Prob(Omnibus):                  0.000   Jarque-Bera (JB):              306.193\n",
       "Skew:                          -1.542   Prob(JB):                     3.24e-67\n",
       "Kurtosis:                       8.218   Cond. No.                     2.32e+04\n",
       "==============================================================================\n",
       "\n",
       "Warnings:\n",
       "[1] Standard Errors assume that the covariance matrix of the errors is correctly specified.\n",
       "[2] The condition number is large, 2.32e+04. This might indicate that there are\n",
       "strong multicollinearity or other numerical problems.\n",
       "\"\"\""
      ]
     },
     "execution_count": 19,
     "metadata": {},
     "output_type": "execute_result"
    }
   ],
   "source": [
    "result3 = smf.ols(M3, data = df).fit()\n",
    "result3.summary()"
   ]
  },
  {
   "cell_type": "markdown",
   "metadata": {},
   "source": [
    "With this model, we can see that:\n",
    "\n",
    "* Newspaper is now a reliable coefficient with a p-value below 0.05\n",
    "\n",
    "* The Newspaper and TV coefficients roughly compensate each other as one is positive and the other negative\n",
    "\n",
    "* And although the coefficient for the Newspaper TV interaction term is small adding it to the model makes the Newspaper predictor more reliable.\n",
    "\n",
    "\n",
    "We can also consider the interaction between Radio and TV with the model\n"
   ]
  },
  {
   "cell_type": "code",
   "execution_count": 20,
   "metadata": {},
   "outputs": [],
   "source": [
    "M4 = 'Sales ~ TV * Radio'"
   ]
  },
  {
   "cell_type": "markdown",
   "metadata": {},
   "source": [
    "This also gives a reliable model"
   ]
  },
  {
   "cell_type": "code",
   "execution_count": 22,
   "metadata": {},
   "outputs": [
    {
     "data": {
      "text/html": [
       "<table class=\"simpletable\">\n",
       "<caption>OLS Regression Results</caption>\n",
       "<tr>\n",
       "  <th>Dep. Variable:</th>          <td>Sales</td>      <th>  R-squared:         </th> <td>   0.903</td>\n",
       "</tr>\n",
       "<tr>\n",
       "  <th>Model:</th>                   <td>OLS</td>       <th>  Adj. R-squared:    </th> <td>   0.901</td>\n",
       "</tr>\n",
       "<tr>\n",
       "  <th>Method:</th>             <td>Least Squares</td>  <th>  F-statistic:       </th> <td>   456.2</td>\n",
       "</tr>\n",
       "<tr>\n",
       "  <th>Date:</th>             <td>Thu, 18 Jul 2019</td> <th>  Prob (F-statistic):</th> <td>9.06e-98</td>\n",
       "</tr>\n",
       "<tr>\n",
       "  <th>Time:</th>                 <td>15:46:16</td>     <th>  Log-Likelihood:    </th> <td> -379.90</td>\n",
       "</tr>\n",
       "<tr>\n",
       "  <th>No. Observations:</th>      <td>   200</td>      <th>  AIC:               </th> <td>   769.8</td>\n",
       "</tr>\n",
       "<tr>\n",
       "  <th>Df Residuals:</th>          <td>   195</td>      <th>  BIC:               </th> <td>   786.3</td>\n",
       "</tr>\n",
       "<tr>\n",
       "  <th>Df Model:</th>              <td>     4</td>      <th>                     </th>     <td> </td>   \n",
       "</tr>\n",
       "<tr>\n",
       "  <th>Covariance Type:</th>      <td>nonrobust</td>    <th>                     </th>     <td> </td>   \n",
       "</tr>\n",
       "</table>\n",
       "<table class=\"simpletable\">\n",
       "<tr>\n",
       "        <td></td>          <th>coef</th>     <th>std err</th>      <th>t</th>      <th>P>|t|</th>  <th>[0.025</th>    <th>0.975]</th>  \n",
       "</tr>\n",
       "<tr>\n",
       "  <th>Intercept</th>    <td>    3.8731</td> <td>    0.401</td> <td>    9.655</td> <td> 0.000</td> <td>    3.082</td> <td>    4.664</td>\n",
       "</tr>\n",
       "<tr>\n",
       "  <th>Radio</th>        <td>    0.1901</td> <td>    0.008</td> <td>   22.692</td> <td> 0.000</td> <td>    0.174</td> <td>    0.207</td>\n",
       "</tr>\n",
       "<tr>\n",
       "  <th>TV</th>           <td>    0.0393</td> <td>    0.002</td> <td>   17.312</td> <td> 0.000</td> <td>    0.035</td> <td>    0.044</td>\n",
       "</tr>\n",
       "<tr>\n",
       "  <th>Newspaper</th>    <td>   -0.0320</td> <td>    0.010</td> <td>   -3.074</td> <td> 0.002</td> <td>   -0.053</td> <td>   -0.011</td>\n",
       "</tr>\n",
       "<tr>\n",
       "  <th>TV:Newspaper</th> <td>    0.0002</td> <td> 5.68e-05</td> <td>    3.554</td> <td> 0.000</td> <td> 8.98e-05</td> <td>    0.000</td>\n",
       "</tr>\n",
       "</table>\n",
       "<table class=\"simpletable\">\n",
       "<tr>\n",
       "  <th>Omnibus:</th>       <td>78.746</td> <th>  Durbin-Watson:     </th> <td>   1.970</td>\n",
       "</tr>\n",
       "<tr>\n",
       "  <th>Prob(Omnibus):</th> <td> 0.000</td> <th>  Jarque-Bera (JB):  </th> <td> 306.193</td>\n",
       "</tr>\n",
       "<tr>\n",
       "  <th>Skew:</th>          <td>-1.542</td> <th>  Prob(JB):          </th> <td>3.24e-67</td>\n",
       "</tr>\n",
       "<tr>\n",
       "  <th>Kurtosis:</th>      <td> 8.218</td> <th>  Cond. No.          </th> <td>2.32e+04</td>\n",
       "</tr>\n",
       "</table><br/><br/>Warnings:<br/>[1] Standard Errors assume that the covariance matrix of the errors is correctly specified.<br/>[2] The condition number is large, 2.32e+04. This might indicate that there are<br/>strong multicollinearity or other numerical problems."
      ],
      "text/plain": [
       "<class 'statsmodels.iolib.summary.Summary'>\n",
       "\"\"\"\n",
       "                            OLS Regression Results                            \n",
       "==============================================================================\n",
       "Dep. Variable:                  Sales   R-squared:                       0.903\n",
       "Model:                            OLS   Adj. R-squared:                  0.901\n",
       "Method:                 Least Squares   F-statistic:                     456.2\n",
       "Date:                Thu, 18 Jul 2019   Prob (F-statistic):           9.06e-98\n",
       "Time:                        15:46:16   Log-Likelihood:                -379.90\n",
       "No. Observations:                 200   AIC:                             769.8\n",
       "Df Residuals:                     195   BIC:                             786.3\n",
       "Df Model:                           4                                         \n",
       "Covariance Type:            nonrobust                                         \n",
       "================================================================================\n",
       "                   coef    std err          t      P>|t|      [0.025      0.975]\n",
       "--------------------------------------------------------------------------------\n",
       "Intercept        3.8731      0.401      9.655      0.000       3.082       4.664\n",
       "Radio            0.1901      0.008     22.692      0.000       0.174       0.207\n",
       "TV               0.0393      0.002     17.312      0.000       0.035       0.044\n",
       "Newspaper       -0.0320      0.010     -3.074      0.002      -0.053      -0.011\n",
       "TV:Newspaper     0.0002   5.68e-05      3.554      0.000    8.98e-05       0.000\n",
       "==============================================================================\n",
       "Omnibus:                       78.746   Durbin-Watson:                   1.970\n",
       "Prob(Omnibus):                  0.000   Jarque-Bera (JB):              306.193\n",
       "Skew:                          -1.542   Prob(JB):                     3.24e-67\n",
       "Kurtosis:                       8.218   Cond. No.                     2.32e+04\n",
       "==============================================================================\n",
       "\n",
       "Warnings:\n",
       "[1] Standard Errors assume that the covariance matrix of the errors is correctly specified.\n",
       "[2] The condition number is large, 2.32e+04. This might indicate that there are\n",
       "strong multicollinearity or other numerical problems.\n",
       "\"\"\""
      ]
     },
     "execution_count": 22,
     "metadata": {},
     "output_type": "execute_result"
    }
   ],
   "source": [
    "result4 = smf.ols(M3, data = df).fit()\n",
    "result4.summary()\n",
    "\n"
   ]
  },
  {
   "cell_type": "code",
   "execution_count": 23,
   "metadata": {},
   "outputs": [
    {
     "data": {
      "text/plain": [
       "Intercept       2.840551e-18\n",
       "Radio           1.287349e-56\n",
       "TV              2.770958e-41\n",
       "Newspaper       2.413379e-03\n",
       "TV:Newspaper    4.759990e-04\n",
       "dtype: float64"
      ]
     },
     "execution_count": 23,
     "metadata": {},
     "output_type": "execute_result"
    }
   ],
   "source": [
    "result4.pvalues"
   ]
  },
  {
   "cell_type": "markdown",
   "metadata": {},
   "source": [
    "## Our models so far\n",
    "Let's now consider the 4 following models:\n"
   ]
  },
  {
   "cell_type": "code",
   "execution_count": 25,
   "metadata": {},
   "outputs": [],
   "source": [
    "formulas = [\n",
    "    'Sales ~ TV + Radio + Newspaper',\n",
    "    'Sales ~ TV + Radio ',\n",
    "    'Sales ~ Radio + TV*Newspaper',\n",
    "    'Sales ~ Radio * TV',\n",
    "    ]\n",
    "\n"
   ]
  },
  {
   "cell_type": "markdown",
   "metadata": {},
   "source": [
    "and let's find out which model is the best\n",
    "\n",
    "We can loop over that list of models, each time fitting the regression,\n",
    "and printing the values of the standard regression metrics\n"
   ]
  },
  {
   "cell_type": "code",
   "execution_count": 28,
   "metadata": {},
   "outputs": [
    {
     "name": "stdout",
     "output_type": "stream",
     "text": [
      "\n",
      "\n",
      "-- Sales ~ TV + Radio + Newspaper\n",
      "\n",
      "   R^2    0.8972 \t Adj. R^2 0.8956\n",
      "   F stat 570.2707 \t F-proba  0.0000 \n",
      "   AIC    780.3622 \t BIC      793.5555 \n",
      "   Log Likelihood -386.1811 \n",
      "\n",
      "\n",
      "-- Sales ~ TV + Radio \n",
      "\n",
      "   R^2    0.8972 \t Adj. R^2 0.8962\n",
      "   F stat 859.6177 \t F-proba  0.0000 \n",
      "   AIC    778.3941 \t BIC      788.2891 \n",
      "   Log Likelihood -386.1970 \n",
      "\n",
      "\n",
      "-- Sales ~ Radio + TV*Newspaper\n",
      "\n",
      "   R^2    0.9035 \t Adj. R^2 0.9015\n",
      "   F stat 456.2410 \t F-proba  0.0000 \n",
      "   AIC    769.8098 \t BIC      786.3014 \n",
      "   Log Likelihood -379.9049 \n",
      "\n",
      "\n",
      "-- Sales ~ Radio * TV\n",
      "\n",
      "   R^2    0.9678 \t Adj. R^2 0.9673\n",
      "   F stat 1963.0569 \t F-proba  0.0000 \n",
      "   AIC    548.2778 \t BIC      561.4711 \n",
      "   Log Likelihood -270.1389 \n"
     ]
    }
   ],
   "source": [
    "for formula in formulas:\n",
    "    # fit the model\n",
    "    result = smf.ols(formula, data = df).fit()\n",
    "    # regression metrics\n",
    "    print(\"\\n\\n-- {}\\n\".format(formula))\n",
    "    print(\"   R^2    {:.4f} \\t Adj. R^2 {:.4f}\".format(result.rsquared,result.rsquared_adj ))\n",
    "    print(\"   F stat {:.4f} \\t F-proba  {:.4f} \".format(result.fvalue, result.f_pvalue))\n",
    "    print(\"   AIC    {:.4f} \\t BIC      {:.4f} \".format(result.aic, result.bic))\n",
    "    print(\"   Log Likelihood {:.4f} \".format(result.llf))\n"
   ]
  },
  {
   "cell_type": "markdown",
   "metadata": {},
   "source": [
    "The F statistic p-value of all the models is well below 0.05.\n",
    "Which means that all these models are better than a simple constant with no predictors at all.\n",
    "\n",
    "\n",
    "We've already seen that the 2 first models are very much equivalent in terms of R^2 and log likelihood.\n",
    "\n",
    "The 3rd model that includes the TV:Newspaper interaction term is better than the 2 first with higher R-squared, log likelihood and lower AIC and BIC\n",
    "\n",
    "\n",
    "Finally, the 4th model is by far the best model we've designed so far\n",
    "with an R-squared of 0.96\n",
    "\n",
    "\n",
    "\n",
    "## QQ plot: normal residuals\n",
    "\n",
    "The QQ plot tells us if the residuals of a model are normally distributed\n",
    "A necessary outcome of a good model.\n",
    "\n",
    "\n",
    "Let's look at the QQ plot for our best model.\n"
   ]
  },
  {
   "cell_type": "code",
   "execution_count": 29,
   "metadata": {},
   "outputs": [
    {
     "data": {
      "image/png": "[encoded data removed]",
      "text/plain": [
       "<Figure size 432x288 with 1 Axes>"
      ]
     },
     "metadata": {
      "needs_background": "light"
     },
     "output_type": "display_data"
    }
   ],
   "source": [
    "result4 = smf.ols('Sales ~ TV * Radio', data = df).fit()\n",
    "sm.qqplot(result4.resid, line='r');\n"
   ]
  },
  {
   "cell_type": "markdown",
   "metadata": {},
   "source": [
    "The points of the quantile plot are not well aligned with the straight line\n",
    "which indicates that there is still some information in the dataset that could be exploited\n",
    "to build a more efficient model.\n",
    "\n",
    "For reasons we will see in the next chapter, the sqrt of the TV variable ends up being a better predictor than TV itself.\n",
    "So consider now the model\n"
   ]
  },
  {
   "cell_type": "code",
   "execution_count": 32,
   "metadata": {},
   "outputs": [
    {
     "data": {
      "text/html": [
       "<table class=\"simpletable\">\n",
       "<caption>OLS Regression Results</caption>\n",
       "<tr>\n",
       "  <th>Dep. Variable:</th>          <td>Sales</td>      <th>  R-squared:         </th> <td>   0.993</td> \n",
       "</tr>\n",
       "<tr>\n",
       "  <th>Model:</th>                   <td>OLS</td>       <th>  Adj. R-squared:    </th> <td>   0.993</td> \n",
       "</tr>\n",
       "<tr>\n",
       "  <th>Method:</th>             <td>Least Squares</td>  <th>  F-statistic:       </th> <td>   8949.</td> \n",
       "</tr>\n",
       "<tr>\n",
       "  <th>Date:</th>             <td>Thu, 18 Jul 2019</td> <th>  Prob (F-statistic):</th> <td>2.23e-209</td>\n",
       "</tr>\n",
       "<tr>\n",
       "  <th>Time:</th>                 <td>15:48:36</td>     <th>  Log-Likelihood:    </th> <td> -120.98</td> \n",
       "</tr>\n",
       "<tr>\n",
       "  <th>No. Observations:</th>      <td>   200</td>      <th>  AIC:               </th> <td>   250.0</td> \n",
       "</tr>\n",
       "<tr>\n",
       "  <th>Df Residuals:</th>          <td>   196</td>      <th>  BIC:               </th> <td>   263.2</td> \n",
       "</tr>\n",
       "<tr>\n",
       "  <th>Df Model:</th>              <td>     3</td>      <th>                     </th>     <td> </td>    \n",
       "</tr>\n",
       "<tr>\n",
       "  <th>Covariance Type:</th>      <td>nonrobust</td>    <th>                     </th>     <td> </td>    \n",
       "</tr>\n",
       "</table>\n",
       "<table class=\"simpletable\">\n",
       "<tr>\n",
       "          <td></td>             <th>coef</th>     <th>std err</th>      <th>t</th>      <th>P>|t|</th>  <th>[0.025</th>    <th>0.975]</th>  \n",
       "</tr>\n",
       "<tr>\n",
       "  <th>Intercept</th>         <td>    4.4444</td> <td>    0.179</td> <td>   24.778</td> <td> 0.000</td> <td>    4.091</td> <td>    4.798</td>\n",
       "</tr>\n",
       "<tr>\n",
       "  <th>Radio</th>             <td>   -0.0501</td> <td>    0.006</td> <td>   -7.997</td> <td> 0.000</td> <td>   -0.062</td> <td>   -0.038</td>\n",
       "</tr>\n",
       "<tr>\n",
       "  <th>np.sqrt(TV)</th>       <td>    0.4384</td> <td>    0.015</td> <td>   29.183</td> <td> 0.000</td> <td>    0.409</td> <td>    0.468</td>\n",
       "</tr>\n",
       "<tr>\n",
       "  <th>Radio:np.sqrt(TV)</th> <td>    0.0215</td> <td>    0.001</td> <td>   41.538</td> <td> 0.000</td> <td>    0.020</td> <td>    0.023</td>\n",
       "</tr>\n",
       "</table>\n",
       "<table class=\"simpletable\">\n",
       "<tr>\n",
       "  <th>Omnibus:</th>       <td>35.531</td> <th>  Durbin-Watson:     </th> <td>   2.171</td>\n",
       "</tr>\n",
       "<tr>\n",
       "  <th>Prob(Omnibus):</th> <td> 0.000</td> <th>  Jarque-Bera (JB):  </th> <td>  97.449</td>\n",
       "</tr>\n",
       "<tr>\n",
       "  <th>Skew:</th>          <td>-0.733</td> <th>  Prob(JB):          </th> <td>6.90e-22</td>\n",
       "</tr>\n",
       "<tr>\n",
       "  <th>Kurtosis:</th>      <td> 6.089</td> <th>  Cond. No.          </th> <td>1.94e+03</td>\n",
       "</tr>\n",
       "</table><br/><br/>Warnings:<br/>[1] Standard Errors assume that the covariance matrix of the errors is correctly specified.<br/>[2] The condition number is large, 1.94e+03. This might indicate that there are<br/>strong multicollinearity or other numerical problems."
      ],
      "text/plain": [
       "<class 'statsmodels.iolib.summary.Summary'>\n",
       "\"\"\"\n",
       "                            OLS Regression Results                            \n",
       "==============================================================================\n",
       "Dep. Variable:                  Sales   R-squared:                       0.993\n",
       "Model:                            OLS   Adj. R-squared:                  0.993\n",
       "Method:                 Least Squares   F-statistic:                     8949.\n",
       "Date:                Thu, 18 Jul 2019   Prob (F-statistic):          2.23e-209\n",
       "Time:                        15:48:36   Log-Likelihood:                -120.98\n",
       "No. Observations:                 200   AIC:                             250.0\n",
       "Df Residuals:                     196   BIC:                             263.2\n",
       "Df Model:                           3                                         \n",
       "Covariance Type:            nonrobust                                         \n",
       "=====================================================================================\n",
       "                        coef    std err          t      P>|t|      [0.025      0.975]\n",
       "-------------------------------------------------------------------------------------\n",
       "Intercept             4.4444      0.179     24.778      0.000       4.091       4.798\n",
       "Radio                -0.0501      0.006     -7.997      0.000      -0.062      -0.038\n",
       "np.sqrt(TV)           0.4384      0.015     29.183      0.000       0.409       0.468\n",
       "Radio:np.sqrt(TV)     0.0215      0.001     41.538      0.000       0.020       0.023\n",
       "==============================================================================\n",
       "Omnibus:                       35.531   Durbin-Watson:                   2.171\n",
       "Prob(Omnibus):                  0.000   Jarque-Bera (JB):               97.449\n",
       "Skew:                          -0.733   Prob(JB):                     6.90e-22\n",
       "Kurtosis:                       6.089   Cond. No.                     1.94e+03\n",
       "==============================================================================\n",
       "\n",
       "Warnings:\n",
       "[1] Standard Errors assume that the covariance matrix of the errors is correctly specified.\n",
       "[2] The condition number is large, 1.94e+03. This might indicate that there are\n",
       "strong multicollinearity or other numerical problems.\n",
       "\"\"\""
      ]
     },
     "execution_count": 32,
     "metadata": {},
     "output_type": "execute_result"
    }
   ],
   "source": [
    "M5 = 'Sales ~  Radio * np.sqrt(TV)'\n",
    "result = smf.ols('Sales ~  Radio * np.sqrt(TV)', data = df).fit()\n",
    "result.summary()\n"
   ]
  },
  {
   "cell_type": "markdown",
   "metadata": {},
   "source": [
    "which results in an r-squared of 0.99\n",
    "\n",
    "And this time the residuals are normally distributed\n",
    "as shown by the QQ plot\n"
   ]
  },
  {
   "cell_type": "code",
   "execution_count": 33,
   "metadata": {},
   "outputs": [
    {
     "data": {
      "image/png": "[encoded data removed]",
      "text/plain": [
       "<Figure size 432x288 with 1 Axes>"
      ]
     },
     "execution_count": 33,
     "metadata": {},
     "output_type": "execute_result"
    },
    {
     "data": {
      "image/png": "[encoded data removed]",
      "text/plain": [
       "<Figure size 432x288 with 1 Axes>"
      ]
     },
     "metadata": {
      "needs_background": "light"
     },
     "output_type": "display_data"
    }
   ],
   "source": [
    "sm.qqplot(result.resid, line='r')"
   ]
  },
  {
   "cell_type": "markdown",
   "metadata": {},
   "source": [
    "This is confirmed by the KS test\n"
   ]
  },
  {
   "cell_type": "code",
   "execution_count": 34,
   "metadata": {},
   "outputs": [
    {
     "data": {
      "text/plain": [
       "KstestResult(statistic=0.06909128154817029, pvalue=0.28300214853637035)"
      ]
     },
     "execution_count": 34,
     "metadata": {},
     "output_type": "execute_result"
    }
   ],
   "source": [
    "from scipy import stats\n",
    "x = (result.resid - np.mean(result.resid)) / np.std(result.resid)\n",
    "stats.kstest(x , 'norm')\n"
   ]
  },
  {
   "cell_type": "markdown",
   "metadata": {},
   "source": [
    "With a pvalue=0.28 we cannot reject the null hypothesis that the residuals are notmally distributed.\n",
    "\n",
    "And we can conclude that residuals are close to being normally distributed.\n"
   ]
  },
  {
   "cell_type": "code",
   "execution_count": 35,
   "metadata": {},
   "outputs": [
    {
     "data": {
      "text/plain": [
       "<matplotlib.axes._subplots.AxesSubplot at 0x124eae438>"
      ]
     },
     "execution_count": 35,
     "metadata": {},
     "output_type": "execute_result"
    },
    {
     "data": {
      "image/png": "[encoded data removed]",
      "text/plain": [
       "<Figure size 432x288 with 1 Axes>"
      ]
     },
     "metadata": {
      "needs_background": "light"
     },
     "output_type": "display_data"
    }
   ],
   "source": [
    "sns.distplot(x)"
   ]
  },
  {
   "cell_type": "code",
   "execution_count": null,
   "metadata": {},
   "outputs": [],
   "source": []
  }
 ],
 "metadata": {
  "kernelspec": {
   "display_name": "Python 3",
   "language": "python",
   "name": "python3"
  },
  "language_info": {
   "codemirror_mode": {
    "name": "ipython",
    "version": 3
   },
   "file_extension": ".py",
   "mimetype": "text/x-python",
   "name": "python",
   "nbconvert_exporter": "python",
   "pygments_lexer": "ipython3",
   "version": "3.7.3"
  }
 },
 "nbformat": 4,
 "nbformat_minor": 2
}
