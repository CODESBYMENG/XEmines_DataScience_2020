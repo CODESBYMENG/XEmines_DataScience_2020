{
 "cells": [
  {
   "cell_type": "markdown",
   "metadata": {},
   "source": [
    "# The T-test\n",
    "\n",
    "In this notebook, we look at the statistical t-test to determine if the average of a parameter is different across 2 populations.\n",
    "\n",
    "To illustrate the t-test, we're going to work on the school dataset and compare the average weight and height of girls and boys.\n",
    "\n",
    "We import the necessary packages and load the dataset into a dataframe.\n",
    "\n"
   ]
  },
  {
   "cell_type": "code",
   "execution_count": 10,
   "metadata": {},
   "outputs": [],
   "source": [
    "import pandas as pd\n",
    "import numpy as np\n",
    "import matplotlib.pyplot as plt\n",
    "pd.options.display.float_format = '{:,.2f}'.format\n",
    "\n",
    "\n",
    "df = pd.read_csv('./data/school.csv')"
   ]
  },
  {
   "cell_type": "markdown",
   "metadata": {},
   "source": [
    "The school dataset has the height, weight and age of 126 boys and 111 girls.\n",
    "\n",
    "Note: the original school dataset is based on the imperial system (inches and pounds). \n",
    "\n",
    "Our version of this dataset has been converted to the metric system (cm and kg)."
   ]
  },
  {
   "cell_type": "code",
   "execution_count": 11,
   "metadata": {},
   "outputs": [
    {
     "data": {
      "text/plain": [
       "(237, 4)"
      ]
     },
     "execution_count": 11,
     "metadata": {},
     "output_type": "execute_result"
    }
   ],
   "source": [
    "df.shape"
   ]
  },
  {
   "cell_type": "code",
   "execution_count": 12,
   "metadata": {},
   "outputs": [
    {
     "data": {
      "text/html": [
       "<div>\n",
       "<style scoped>\n",
       "    .dataframe tbody tr th:only-of-type {\n",
       "        vertical-align: middle;\n",
       "    }\n",
       "\n",
       "    .dataframe tbody tr th {\n",
       "        vertical-align: top;\n",
       "    }\n",
       "\n",
       "    .dataframe thead th {\n",
       "        text-align: right;\n",
       "    }\n",
       "</style>\n",
       "<table border=\"1\" class=\"dataframe\">\n",
       "  <thead>\n",
       "    <tr style=\"text-align: right;\">\n",
       "      <th></th>\n",
       "      <th>sex</th>\n",
       "      <th>age</th>\n",
       "      <th>height</th>\n",
       "      <th>weight</th>\n",
       "    </tr>\n",
       "  </thead>\n",
       "  <tbody>\n",
       "    <tr>\n",
       "      <th>0</th>\n",
       "      <td>m</td>\n",
       "      <td>147</td>\n",
       "      <td>128.27</td>\n",
       "      <td>35.83</td>\n",
       "    </tr>\n",
       "    <tr>\n",
       "      <th>1</th>\n",
       "      <td>f</td>\n",
       "      <td>143</td>\n",
       "      <td>130.30</td>\n",
       "      <td>22.91</td>\n",
       "    </tr>\n",
       "    <tr>\n",
       "      <th>2</th>\n",
       "      <td>f</td>\n",
       "      <td>147</td>\n",
       "      <td>130.81</td>\n",
       "      <td>29.03</td>\n",
       "    </tr>\n",
       "    <tr>\n",
       "      <th>3</th>\n",
       "      <td>m</td>\n",
       "      <td>149</td>\n",
       "      <td>133.35</td>\n",
       "      <td>36.74</td>\n",
       "    </tr>\n",
       "    <tr>\n",
       "      <th>4</th>\n",
       "      <td>f</td>\n",
       "      <td>139</td>\n",
       "      <td>134.11</td>\n",
       "      <td>28.80</td>\n",
       "    </tr>\n",
       "  </tbody>\n",
       "</table>\n",
       "</div>"
      ],
      "text/plain": [
       "  sex  age  height  weight\n",
       "0   m  147  128.27   35.83\n",
       "1   f  143  130.30   22.91\n",
       "2   f  147  130.81   29.03\n",
       "3   m  149  133.35   36.74\n",
       "4   f  139  134.11   28.80"
      ]
     },
     "execution_count": 12,
     "metadata": {},
     "output_type": "execute_result"
    }
   ],
   "source": [
    "df.head()"
   ]
  },
  {
   "cell_type": "code",
   "execution_count": 13,
   "metadata": {},
   "outputs": [
    {
     "data": {
      "text/plain": [
       "m    126\n",
       "f    111\n",
       "Name: sex, dtype: int64"
      ]
     },
     "execution_count": 13,
     "metadata": {},
     "output_type": "execute_result"
    }
   ],
   "source": [
    "df.sex.value_counts()"
   ]
  },
  {
   "cell_type": "markdown",
   "metadata": {},
   "source": [
    "Let's calculate the average of the height for girls and for boys."
   ]
  },
  {
   "cell_type": "code",
   "execution_count": 16,
   "metadata": {},
   "outputs": [
    {
     "name": "stdout",
     "output_type": "stream",
     "text": [
      "Average height by sex\n"
     ]
    },
    {
     "data": {
      "text/plain": [
       "sex\n",
       "f   153.74\n",
       "m   157.74\n",
       "Name: height, dtype: float64"
      ]
     },
     "execution_count": 16,
     "metadata": {},
     "output_type": "execute_result"
    }
   ],
   "source": [
    "print(\"Average height by sex\")\n",
    "df.groupby(by = 'sex').mean()['height']"
   ]
  },
  {
   "cell_type": "markdown",
   "metadata": {},
   "source": [
    "On average girls are 153 cms tall and boys are 157cm tall\n",
    "\n",
    "Now the question is whether or not this difference is **statistically significant**.\n",
    "\n",
    "Can we conclude with some certainty based on these observations\n",
    "that boys are taller than girls?\n",
    "\n",
    "Before running the t-test,\n",
    "it's interesting to compare the histograms of the heights for both populations\n",
    "\n",
    "For that we use the seaborn library\n"
   ]
  },
  {
   "cell_type": "code",
   "execution_count": 17,
   "metadata": {},
   "outputs": [],
   "source": [
    "import seaborn as sns\n"
   ]
  },
  {
   "cell_type": "markdown",
   "metadata": {},
   "source": [
    "We get the heights values for the 2 populations"
   ]
  },
  {
   "cell_type": "code",
   "execution_count": 18,
   "metadata": {},
   "outputs": [],
   "source": [
    "G = df[df.sex == 'f'].height.values\n",
    "B = df[df.sex == 'm'].height.values\n"
   ]
  },
  {
   "cell_type": "markdown",
   "metadata": {},
   "source": [
    "and plot the distribution plots"
   ]
  },
  {
   "cell_type": "code",
   "execution_count": 19,
   "metadata": {},
   "outputs": [
    {
     "data": {
      "image/png": "[encoded data removed]",
      "text/plain": [
       "<Figure size 432x288 with 1 Axes>"
      ]
     },
     "metadata": {
      "needs_background": "light"
     },
     "output_type": "display_data"
    }
   ],
   "source": [
    "sns.distplot(G, label ='Girls')\n",
    "sns.distplot(B, label = 'Boys')\n",
    "plt.legend()\n",
    "plt.title('Histogram of Girls and Boys heights')\n",
    "plt.xlabel('Height (in cm)')\n",
    "sns.despine()\n"
   ]
  },
  {
   "cell_type": "markdown",
   "metadata": {},
   "source": [
    "Looking at the histograms, the difference in height between the 2 population is not that obvious.\n",
    "\n",
    "Let's now load the stats module from the scipy library, and run the t-test on the 2 populations:\n"
   ]
  },
  {
   "cell_type": "code",
   "execution_count": 20,
   "metadata": {},
   "outputs": [
    {
     "name": "stdout",
     "output_type": "stream",
     "text": [
      "Ttest_indResult(statistic=-3.127216049757464, pvalue=0.0019873593355122674)\n"
     ]
    }
   ],
   "source": [
    "from scipy import stats\n",
    "result = stats.ttest_ind(G,B)\n",
    "print(result)\n"
   ]
  },
  {
   "cell_type": "markdown",
   "metadata": {},
   "source": [
    "Recall that the null hypothesis of the t-test is that both populations have the same average.\n",
    "\n",
    "In our example above, the p-value is much lower than the usual 0.05 threshold. \n",
    "\n",
    "So we can reject the null hypothesis\n",
    "\n",
    "\n",
    "Since we reject the null hypothesis, we can conclude that the difference in average heights, that we have  observed between boys and girls **is statistically significant**.\n",
    "\n",
    "\n",
    "## weights\n",
    "\n",
    "Let's now carry out the same test on the weight of the 2 populations\n",
    "\n",
    "We have the following averages\n"
   ]
  },
  {
   "cell_type": "code",
   "execution_count": 21,
   "metadata": {},
   "outputs": [
    {
     "data": {
      "text/plain": [
       "sex\n",
       "f   44.85\n",
       "m   46.92\n",
       "Name: weight, dtype: float64"
      ]
     },
     "execution_count": 21,
     "metadata": {},
     "output_type": "execute_result"
    }
   ],
   "source": [
    "df.groupby(by = 'sex').mean()['weight']"
   ]
  },
  {
   "cell_type": "markdown",
   "metadata": {},
   "source": [
    "so 44.9 kg for girls and 46.9 for boys.\n",
    "An average difference of 2 kilos.\n",
    "\n",
    "\n",
    "Let's plot the histograms of the weight for the 2 populations\n",
    "\n"
   ]
  },
  {
   "cell_type": "code",
   "execution_count": 22,
   "metadata": {},
   "outputs": [
    {
     "data": {
      "image/png": "[encoded data removed]",
      "text/plain": [
       "<Figure size 432x288 with 1 Axes>"
      ]
     },
     "metadata": {
      "needs_background": "light"
     },
     "output_type": "display_data"
    }
   ],
   "source": [
    "G = df[df.sex == 'f'].weight.values\n",
    "B = df[df.sex == 'm'].weight.values\n",
    "\n",
    "sns.distplot(G, label ='Girls')\n",
    "sns.distplot(B, label = 'Boys')\n",
    "plt.legend()\n",
    "plt.title('Histogram of Girls and Boys weights')\n",
    "plt.xlabel('Weight (in kg)')\n",
    "sns.despine()\n"
   ]
  },
  {
   "cell_type": "markdown",
   "metadata": {},
   "source": [
    "It looks like the weight distribution is quite similar for boys and girls.\n",
    "\n",
    "Let's confirm that with a t-test\n"
   ]
  },
  {
   "cell_type": "code",
   "execution_count": 24,
   "metadata": {},
   "outputs": [
    {
     "name": "stdout",
     "output_type": "stream",
     "text": [
      "Ttest_indResult(statistic=-1.8145945910513834, pvalue=0.07086126050383235)\n"
     ]
    }
   ],
   "source": [
    "result = stats.ttest_ind(G,B)\n",
    "print(result)\n"
   ]
  },
  {
   "cell_type": "markdown",
   "metadata": {},
   "source": [
    "And indeed in this case the p-value equals 0.07\n",
    "which is above the 0.05 threshold\n",
    "\n",
    "and\n",
    "this time we **cannot** reject the null hypothesis\n",
    "\n",
    "Therefore the observed difference\n",
    "between the weight of girls and boys **is not statistically significant.**\n"
   ]
  },
  {
   "cell_type": "code",
   "execution_count": null,
   "metadata": {},
   "outputs": [],
   "source": []
  }
 ],
 "metadata": {
  "kernelspec": {
   "display_name": "Python 3",
   "language": "python",
   "name": "python3"
  },
  "language_info": {
   "codemirror_mode": {
    "name": "ipython",
    "version": 3
   },
   "file_extension": ".py",
   "mimetype": "text/x-python",
   "name": "python",
   "nbconvert_exporter": "python",
   "pygments_lexer": "ipython3",
   "version": "3.7.3"
  }
 },
 "nbformat": 4,
 "nbformat_minor": 2
}
